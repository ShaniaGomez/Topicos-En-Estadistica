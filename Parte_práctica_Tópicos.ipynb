{
  "nbformat": 4,
  "nbformat_minor": 0,
  "metadata": {
    "colab": {
      "provenance": []
    },
    "kernelspec": {
      "name": "python3",
      "display_name": "Python 3"
    },
    "language_info": {
      "name": "python"
    }
  },
  "cells": [
    {
      "cell_type": "markdown",
      "source": [
        "Autor: SHANIA ZHARICK GOMEZ CONEO - 2210688\n",
        "\n",
        "# Introducción\n",
        "\n",
        "## Motivación\n",
        "Las encuestas longitudinales son herramientas cruciales para analizar cambios en temas específicos a lo largo del tiempo. Estas encuestas permiten mantener a los mismos sujetos en mediciones periódicas, lo que ayuda a controlar errores de medición y evaluar condiciones que afectan los cambios buscados.\n",
        "\n",
        "## Objetivos\n",
        "En este cuaderno, se utilizará la base de datos de la Encuesta Longitudinal de Protección Social (ELPS) realizada en Colombia en 2012 para responder a preguntas específicas sobre la protección social de los menores de 5 años. Se analizarán aspectos relacionados con su alimentación, cuidado y asistencia a instituciones educativas.\n"
      ],
      "metadata": {
        "id": "orabrASj_6sq"
      }
    },
    {
      "cell_type": "markdown",
      "source": [
        "# Metodología\n",
        "\n",
        "## Modelos Usados\n",
        "Para este análisis, se utilizarán varios modelos estadísticos y de aprendizaje automático, incluyendo:\n",
        "1. Análisis descriptivo\n",
        "2. Regresión logística\n",
        "3. Árboles de decisión\n",
        "\n",
        "## Argumentos en las Funciones Implementadas\n",
        "Las funciones implementadas se basarán en los datos proporcionados por la ELPS y estarán diseñadas para responder a las siguientes preguntas:\n",
        "- ¿Cuáles son los factores que influyen en la nutrición de los menores de 5 años?\n",
        "- ¿Qué variables afectan la probabilidad de que un menor asista a una institución educativa?\n"
      ],
      "metadata": {
        "id": "U_GyIZpUAAz-"
      }
    },
    {
      "cell_type": "markdown",
      "source": [
        "# **Cargar datos:**"
      ],
      "metadata": {
        "id": "DGg13KZ_7ywk"
      }
    },
    {
      "cell_type": "code",
      "source": [
        "from google.colab import files\n",
        "\n",
        "# Subir el archivo desde tu computadora\n",
        "uploaded = files.upload()\n",
        "\n",
        "import pandas as pd\n",
        "import matplotlib.pyplot as plt\n",
        "import seaborn as sns"
      ],
      "metadata": {
        "id": "DR3_CiL2kslF"
      },
      "execution_count": null,
      "outputs": []
    },
    {
      "cell_type": "code",
      "source": [
        "# !rm *\n",
        "!ls"
      ],
      "metadata": {
        "colab": {
          "base_uri": "https://localhost:8080/"
        },
        "id": "ipwaZumclcBK",
        "outputId": "eb6cc741-920c-48bb-d851-f4bd3fb9451b"
      },
      "execution_count": 10,
      "outputs": [
        {
          "output_type": "stream",
          "name": "stdout",
          "text": [
            "'D. MENORES.txt'   sample_data\n"
          ]
        }
      ]
    },
    {
      "cell_type": "markdown",
      "source": [
        "# Resultados\n",
        "\n",
        "## Descripción de los Resultados\n",
        "A continuación se presentan los resultados obtenidos de los análisis realizados. Estos incluyen gráficos y tablas que ilustran las principales conclusiones del estudio."
      ],
      "metadata": {
        "id": "r8HeLIg-AP80"
      }
    },
    {
      "cell_type": "markdown",
      "source": [
        "# **1)**"
      ],
      "metadata": {
        "id": "IY8DHGw87pkP"
      }
    },
    {
      "cell_type": "markdown",
      "source": [
        "Utilice las variables de las columnas \"P51\", \"P52\", \"P55\", \"P56\", \"P57\", \"P6159s8\",\n",
        "\"P6163s8\", \"P6161\" y \"P6161s1\". En el análisis se deben eliminar las filas con datos\n",
        "faltantes de la columna \"P52\". También se debe tener en cuenta que los valores faltantes de\n",
        "las columnas \"P6159s8\" y \"P6163s8\" denotan que la madre y el padre sí realizan alguna\n",
        "actividad con el menor, respectivamente."
      ],
      "metadata": {
        "id": "ColzbEIe8DqF"
      }
    },
    {
      "cell_type": "code",
      "source": [
        "\n",
        "df = pd.read_csv('D. MENORES.txt', sep='\\t', encoding='utf-8')\n",
        "\n",
        "\n",
        "df.head()"
      ],
      "metadata": {
        "id": "cW908Nxwn0Et",
        "colab": {
          "base_uri": "https://localhost:8080/",
          "height": 256
        },
        "outputId": "618ff06e-de30-4f94-bab8-209442969f71"
      },
      "execution_count": 5,
      "outputs": [
        {
          "output_type": "execute_result",
          "data": {
            "text/plain": [
              "   Directorio  Nro_encuesta  Secuencia_encuesta  Secuencia_p  Orden  P51  P52  \\\n",
              "0         447           247                   4            1      4    4  5.0   \n",
              "1       17255           247                   3            1      3    1  NaN   \n",
              "2         373           247                   5            1      5    1  NaN   \n",
              "3         373           247                   4            1      4    1  NaN   \n",
              "4         226           247                   3            1      3    2  5.0   \n",
              "\n",
              "  P52s1  P53  P54  ...  P8582s3  P8582s4  P8582s11  P8582s6  P8582s7  P8582s9  \\\n",
              "0   NaN  NaN  NaN  ...      NaN      NaN       NaN      NaN      NaN      NaN   \n",
              "1   NaN  1.0  4.0  ...      NaN      NaN       NaN      NaN      NaN      NaN   \n",
              "2   NaN  4.0  4.0  ...      NaN      NaN       NaN      NaN      NaN      NaN   \n",
              "3   NaN  4.0  4.0  ...      NaN      NaN       NaN      NaN      NaN      NaN   \n",
              "4   NaN  NaN  NaN  ...      NaN      NaN       NaN      NaN      NaN      NaN   \n",
              "\n",
              "   P8582s12  P8582s10  P8582s10a1        Fex_c  \n",
              "0       NaN       NaN         NaN  1454.129389  \n",
              "1       NaN       NaN         NaN   663.046128  \n",
              "2       NaN       NaN         NaN  1925.021859  \n",
              "3       NaN       NaN         NaN  1925.021859  \n",
              "4       NaN       NaN         NaN   912.997171  \n",
              "\n",
              "[5 rows x 53 columns]"
            ],
            "text/html": [
              "\n",
              "  <div id=\"df-35ec5df8-5f5e-463f-a308-c8a03da3edc2\" class=\"colab-df-container\">\n",
              "    <div>\n",
              "<style scoped>\n",
              "    .dataframe tbody tr th:only-of-type {\n",
              "        vertical-align: middle;\n",
              "    }\n",
              "\n",
              "    .dataframe tbody tr th {\n",
              "        vertical-align: top;\n",
              "    }\n",
              "\n",
              "    .dataframe thead th {\n",
              "        text-align: right;\n",
              "    }\n",
              "</style>\n",
              "<table border=\"1\" class=\"dataframe\">\n",
              "  <thead>\n",
              "    <tr style=\"text-align: right;\">\n",
              "      <th></th>\n",
              "      <th>Directorio</th>\n",
              "      <th>Nro_encuesta</th>\n",
              "      <th>Secuencia_encuesta</th>\n",
              "      <th>Secuencia_p</th>\n",
              "      <th>Orden</th>\n",
              "      <th>P51</th>\n",
              "      <th>P52</th>\n",
              "      <th>P52s1</th>\n",
              "      <th>P53</th>\n",
              "      <th>P54</th>\n",
              "      <th>...</th>\n",
              "      <th>P8582s3</th>\n",
              "      <th>P8582s4</th>\n",
              "      <th>P8582s11</th>\n",
              "      <th>P8582s6</th>\n",
              "      <th>P8582s7</th>\n",
              "      <th>P8582s9</th>\n",
              "      <th>P8582s12</th>\n",
              "      <th>P8582s10</th>\n",
              "      <th>P8582s10a1</th>\n",
              "      <th>Fex_c</th>\n",
              "    </tr>\n",
              "  </thead>\n",
              "  <tbody>\n",
              "    <tr>\n",
              "      <th>0</th>\n",
              "      <td>447</td>\n",
              "      <td>247</td>\n",
              "      <td>4</td>\n",
              "      <td>1</td>\n",
              "      <td>4</td>\n",
              "      <td>4</td>\n",
              "      <td>5.0</td>\n",
              "      <td>NaN</td>\n",
              "      <td>NaN</td>\n",
              "      <td>NaN</td>\n",
              "      <td>...</td>\n",
              "      <td>NaN</td>\n",
              "      <td>NaN</td>\n",
              "      <td>NaN</td>\n",
              "      <td>NaN</td>\n",
              "      <td>NaN</td>\n",
              "      <td>NaN</td>\n",
              "      <td>NaN</td>\n",
              "      <td>NaN</td>\n",
              "      <td>NaN</td>\n",
              "      <td>1454.129389</td>\n",
              "    </tr>\n",
              "    <tr>\n",
              "      <th>1</th>\n",
              "      <td>17255</td>\n",
              "      <td>247</td>\n",
              "      <td>3</td>\n",
              "      <td>1</td>\n",
              "      <td>3</td>\n",
              "      <td>1</td>\n",
              "      <td>NaN</td>\n",
              "      <td>NaN</td>\n",
              "      <td>1.0</td>\n",
              "      <td>4.0</td>\n",
              "      <td>...</td>\n",
              "      <td>NaN</td>\n",
              "      <td>NaN</td>\n",
              "      <td>NaN</td>\n",
              "      <td>NaN</td>\n",
              "      <td>NaN</td>\n",
              "      <td>NaN</td>\n",
              "      <td>NaN</td>\n",
              "      <td>NaN</td>\n",
              "      <td>NaN</td>\n",
              "      <td>663.046128</td>\n",
              "    </tr>\n",
              "    <tr>\n",
              "      <th>2</th>\n",
              "      <td>373</td>\n",
              "      <td>247</td>\n",
              "      <td>5</td>\n",
              "      <td>1</td>\n",
              "      <td>5</td>\n",
              "      <td>1</td>\n",
              "      <td>NaN</td>\n",
              "      <td>NaN</td>\n",
              "      <td>4.0</td>\n",
              "      <td>4.0</td>\n",
              "      <td>...</td>\n",
              "      <td>NaN</td>\n",
              "      <td>NaN</td>\n",
              "      <td>NaN</td>\n",
              "      <td>NaN</td>\n",
              "      <td>NaN</td>\n",
              "      <td>NaN</td>\n",
              "      <td>NaN</td>\n",
              "      <td>NaN</td>\n",
              "      <td>NaN</td>\n",
              "      <td>1925.021859</td>\n",
              "    </tr>\n",
              "    <tr>\n",
              "      <th>3</th>\n",
              "      <td>373</td>\n",
              "      <td>247</td>\n",
              "      <td>4</td>\n",
              "      <td>1</td>\n",
              "      <td>4</td>\n",
              "      <td>1</td>\n",
              "      <td>NaN</td>\n",
              "      <td>NaN</td>\n",
              "      <td>4.0</td>\n",
              "      <td>4.0</td>\n",
              "      <td>...</td>\n",
              "      <td>NaN</td>\n",
              "      <td>NaN</td>\n",
              "      <td>NaN</td>\n",
              "      <td>NaN</td>\n",
              "      <td>NaN</td>\n",
              "      <td>NaN</td>\n",
              "      <td>NaN</td>\n",
              "      <td>NaN</td>\n",
              "      <td>NaN</td>\n",
              "      <td>1925.021859</td>\n",
              "    </tr>\n",
              "    <tr>\n",
              "      <th>4</th>\n",
              "      <td>226</td>\n",
              "      <td>247</td>\n",
              "      <td>3</td>\n",
              "      <td>1</td>\n",
              "      <td>3</td>\n",
              "      <td>2</td>\n",
              "      <td>5.0</td>\n",
              "      <td>NaN</td>\n",
              "      <td>NaN</td>\n",
              "      <td>NaN</td>\n",
              "      <td>...</td>\n",
              "      <td>NaN</td>\n",
              "      <td>NaN</td>\n",
              "      <td>NaN</td>\n",
              "      <td>NaN</td>\n",
              "      <td>NaN</td>\n",
              "      <td>NaN</td>\n",
              "      <td>NaN</td>\n",
              "      <td>NaN</td>\n",
              "      <td>NaN</td>\n",
              "      <td>912.997171</td>\n",
              "    </tr>\n",
              "  </tbody>\n",
              "</table>\n",
              "<p>5 rows × 53 columns</p>\n",
              "</div>\n",
              "    <div class=\"colab-df-buttons\">\n",
              "\n",
              "  <div class=\"colab-df-container\">\n",
              "    <button class=\"colab-df-convert\" onclick=\"convertToInteractive('df-35ec5df8-5f5e-463f-a308-c8a03da3edc2')\"\n",
              "            title=\"Convert this dataframe to an interactive table.\"\n",
              "            style=\"display:none;\">\n",
              "\n",
              "  <svg xmlns=\"http://www.w3.org/2000/svg\" height=\"24px\" viewBox=\"0 -960 960 960\">\n",
              "    <path d=\"M120-120v-720h720v720H120Zm60-500h600v-160H180v160Zm220 220h160v-160H400v160Zm0 220h160v-160H400v160ZM180-400h160v-160H180v160Zm440 0h160v-160H620v160ZM180-180h160v-160H180v160Zm440 0h160v-160H620v160Z\"/>\n",
              "  </svg>\n",
              "    </button>\n",
              "\n",
              "  <style>\n",
              "    .colab-df-container {\n",
              "      display:flex;\n",
              "      gap: 12px;\n",
              "    }\n",
              "\n",
              "    .colab-df-convert {\n",
              "      background-color: #E8F0FE;\n",
              "      border: none;\n",
              "      border-radius: 50%;\n",
              "      cursor: pointer;\n",
              "      display: none;\n",
              "      fill: #1967D2;\n",
              "      height: 32px;\n",
              "      padding: 0 0 0 0;\n",
              "      width: 32px;\n",
              "    }\n",
              "\n",
              "    .colab-df-convert:hover {\n",
              "      background-color: #E2EBFA;\n",
              "      box-shadow: 0px 1px 2px rgba(60, 64, 67, 0.3), 0px 1px 3px 1px rgba(60, 64, 67, 0.15);\n",
              "      fill: #174EA6;\n",
              "    }\n",
              "\n",
              "    .colab-df-buttons div {\n",
              "      margin-bottom: 4px;\n",
              "    }\n",
              "\n",
              "    [theme=dark] .colab-df-convert {\n",
              "      background-color: #3B4455;\n",
              "      fill: #D2E3FC;\n",
              "    }\n",
              "\n",
              "    [theme=dark] .colab-df-convert:hover {\n",
              "      background-color: #434B5C;\n",
              "      box-shadow: 0px 1px 3px 1px rgba(0, 0, 0, 0.15);\n",
              "      filter: drop-shadow(0px 1px 2px rgba(0, 0, 0, 0.3));\n",
              "      fill: #FFFFFF;\n",
              "    }\n",
              "  </style>\n",
              "\n",
              "    <script>\n",
              "      const buttonEl =\n",
              "        document.querySelector('#df-35ec5df8-5f5e-463f-a308-c8a03da3edc2 button.colab-df-convert');\n",
              "      buttonEl.style.display =\n",
              "        google.colab.kernel.accessAllowed ? 'block' : 'none';\n",
              "\n",
              "      async function convertToInteractive(key) {\n",
              "        const element = document.querySelector('#df-35ec5df8-5f5e-463f-a308-c8a03da3edc2');\n",
              "        const dataTable =\n",
              "          await google.colab.kernel.invokeFunction('convertToInteractive',\n",
              "                                                    [key], {});\n",
              "        if (!dataTable) return;\n",
              "\n",
              "        const docLinkHtml = 'Like what you see? Visit the ' +\n",
              "          '<a target=\"_blank\" href=https://colab.research.google.com/notebooks/data_table.ipynb>data table notebook</a>'\n",
              "          + ' to learn more about interactive tables.';\n",
              "        element.innerHTML = '';\n",
              "        dataTable['output_type'] = 'display_data';\n",
              "        await google.colab.output.renderOutput(dataTable, element);\n",
              "        const docLink = document.createElement('div');\n",
              "        docLink.innerHTML = docLinkHtml;\n",
              "        element.appendChild(docLink);\n",
              "      }\n",
              "    </script>\n",
              "  </div>\n",
              "\n",
              "\n",
              "<div id=\"df-7701ed5d-1bee-4d4d-bbda-4e7e1ebdc3b7\">\n",
              "  <button class=\"colab-df-quickchart\" onclick=\"quickchart('df-7701ed5d-1bee-4d4d-bbda-4e7e1ebdc3b7')\"\n",
              "            title=\"Suggest charts\"\n",
              "            style=\"display:none;\">\n",
              "\n",
              "<svg xmlns=\"http://www.w3.org/2000/svg\" height=\"24px\"viewBox=\"0 0 24 24\"\n",
              "     width=\"24px\">\n",
              "    <g>\n",
              "        <path d=\"M19 3H5c-1.1 0-2 .9-2 2v14c0 1.1.9 2 2 2h14c1.1 0 2-.9 2-2V5c0-1.1-.9-2-2-2zM9 17H7v-7h2v7zm4 0h-2V7h2v10zm4 0h-2v-4h2v4z\"/>\n",
              "    </g>\n",
              "</svg>\n",
              "  </button>\n",
              "\n",
              "<style>\n",
              "  .colab-df-quickchart {\n",
              "      --bg-color: #E8F0FE;\n",
              "      --fill-color: #1967D2;\n",
              "      --hover-bg-color: #E2EBFA;\n",
              "      --hover-fill-color: #174EA6;\n",
              "      --disabled-fill-color: #AAA;\n",
              "      --disabled-bg-color: #DDD;\n",
              "  }\n",
              "\n",
              "  [theme=dark] .colab-df-quickchart {\n",
              "      --bg-color: #3B4455;\n",
              "      --fill-color: #D2E3FC;\n",
              "      --hover-bg-color: #434B5C;\n",
              "      --hover-fill-color: #FFFFFF;\n",
              "      --disabled-bg-color: #3B4455;\n",
              "      --disabled-fill-color: #666;\n",
              "  }\n",
              "\n",
              "  .colab-df-quickchart {\n",
              "    background-color: var(--bg-color);\n",
              "    border: none;\n",
              "    border-radius: 50%;\n",
              "    cursor: pointer;\n",
              "    display: none;\n",
              "    fill: var(--fill-color);\n",
              "    height: 32px;\n",
              "    padding: 0;\n",
              "    width: 32px;\n",
              "  }\n",
              "\n",
              "  .colab-df-quickchart:hover {\n",
              "    background-color: var(--hover-bg-color);\n",
              "    box-shadow: 0 1px 2px rgba(60, 64, 67, 0.3), 0 1px 3px 1px rgba(60, 64, 67, 0.15);\n",
              "    fill: var(--button-hover-fill-color);\n",
              "  }\n",
              "\n",
              "  .colab-df-quickchart-complete:disabled,\n",
              "  .colab-df-quickchart-complete:disabled:hover {\n",
              "    background-color: var(--disabled-bg-color);\n",
              "    fill: var(--disabled-fill-color);\n",
              "    box-shadow: none;\n",
              "  }\n",
              "\n",
              "  .colab-df-spinner {\n",
              "    border: 2px solid var(--fill-color);\n",
              "    border-color: transparent;\n",
              "    border-bottom-color: var(--fill-color);\n",
              "    animation:\n",
              "      spin 1s steps(1) infinite;\n",
              "  }\n",
              "\n",
              "  @keyframes spin {\n",
              "    0% {\n",
              "      border-color: transparent;\n",
              "      border-bottom-color: var(--fill-color);\n",
              "      border-left-color: var(--fill-color);\n",
              "    }\n",
              "    20% {\n",
              "      border-color: transparent;\n",
              "      border-left-color: var(--fill-color);\n",
              "      border-top-color: var(--fill-color);\n",
              "    }\n",
              "    30% {\n",
              "      border-color: transparent;\n",
              "      border-left-color: var(--fill-color);\n",
              "      border-top-color: var(--fill-color);\n",
              "      border-right-color: var(--fill-color);\n",
              "    }\n",
              "    40% {\n",
              "      border-color: transparent;\n",
              "      border-right-color: var(--fill-color);\n",
              "      border-top-color: var(--fill-color);\n",
              "    }\n",
              "    60% {\n",
              "      border-color: transparent;\n",
              "      border-right-color: var(--fill-color);\n",
              "    }\n",
              "    80% {\n",
              "      border-color: transparent;\n",
              "      border-right-color: var(--fill-color);\n",
              "      border-bottom-color: var(--fill-color);\n",
              "    }\n",
              "    90% {\n",
              "      border-color: transparent;\n",
              "      border-bottom-color: var(--fill-color);\n",
              "    }\n",
              "  }\n",
              "</style>\n",
              "\n",
              "  <script>\n",
              "    async function quickchart(key) {\n",
              "      const quickchartButtonEl =\n",
              "        document.querySelector('#' + key + ' button');\n",
              "      quickchartButtonEl.disabled = true;  // To prevent multiple clicks.\n",
              "      quickchartButtonEl.classList.add('colab-df-spinner');\n",
              "      try {\n",
              "        const charts = await google.colab.kernel.invokeFunction(\n",
              "            'suggestCharts', [key], {});\n",
              "      } catch (error) {\n",
              "        console.error('Error during call to suggestCharts:', error);\n",
              "      }\n",
              "      quickchartButtonEl.classList.remove('colab-df-spinner');\n",
              "      quickchartButtonEl.classList.add('colab-df-quickchart-complete');\n",
              "    }\n",
              "    (() => {\n",
              "      let quickchartButtonEl =\n",
              "        document.querySelector('#df-7701ed5d-1bee-4d4d-bbda-4e7e1ebdc3b7 button');\n",
              "      quickchartButtonEl.style.display =\n",
              "        google.colab.kernel.accessAllowed ? 'block' : 'none';\n",
              "    })();\n",
              "  </script>\n",
              "</div>\n",
              "\n",
              "    </div>\n",
              "  </div>\n"
            ],
            "application/vnd.google.colaboratory.intrinsic+json": {
              "type": "dataframe",
              "variable_name": "df"
            }
          },
          "metadata": {},
          "execution_count": 5
        }
      ]
    },
    {
      "cell_type": "code",
      "source": [
        "\n",
        "variables_seleccionadas = [\"P51\", \"P52\", \"P55\", \"P56\", \"P57\", \"P6159s8\", \"P6163s8\", \"P6161\", \"P6161s1\"]\n",
        "df_selected = df[variables_seleccionadas]\n",
        "\n",
        "df_clean = df_selected.dropna(subset=['P52'])\n",
        "\n",
        "df_clean.info()"
      ],
      "metadata": {
        "colab": {
          "base_uri": "https://localhost:8080/"
        },
        "id": "CM0stxNgojc9",
        "outputId": "b296c8a1-0bab-433b-cb1c-472a113f6437"
      },
      "execution_count": 6,
      "outputs": [
        {
          "output_type": "stream",
          "name": "stdout",
          "text": [
            "<class 'pandas.core.frame.DataFrame'>\n",
            "Index: 2724 entries, 0 to 4090\n",
            "Data columns (total 9 columns):\n",
            " #   Column   Non-Null Count  Dtype  \n",
            "---  ------   --------------  -----  \n",
            " 0   P51      2724 non-null   int64  \n",
            " 1   P52      2724 non-null   float64\n",
            " 2   P55      2724 non-null   int64  \n",
            " 3   P56      2724 non-null   int64  \n",
            " 4   P57      2724 non-null   int64  \n",
            " 5   P6159s8  180 non-null    float64\n",
            " 6   P6163s8  700 non-null    float64\n",
            " 7   P6161    2724 non-null   int64  \n",
            " 8   P6161s1  2210 non-null   float64\n",
            "dtypes: float64(4), int64(5)\n",
            "memory usage: 212.8 KB\n"
          ]
        }
      ]
    },
    {
      "cell_type": "code",
      "source": [
        "# Estadísticas descriptivas\n",
        "summary_stats = df_clean.describe()\n",
        "print(summary_stats)"
      ],
      "metadata": {
        "colab": {
          "base_uri": "https://localhost:8080/"
        },
        "id": "LTRRSAKJoo0r",
        "outputId": "1b998fc8-ec9f-48d0-8ac5-de682908565b"
      },
      "execution_count": 7,
      "outputs": [
        {
          "output_type": "stream",
          "name": "stdout",
          "text": [
            "               P51          P52          P55          P56          P57  \\\n",
            "count  2724.000000  2724.000000  2724.000000  2724.000000  2724.000000   \n",
            "mean      2.683921     4.284508     1.066814     1.116373     1.066814   \n",
            "std       1.349754     1.224746     0.249745     0.320731     0.249745   \n",
            "min       2.000000     1.000000     1.000000     1.000000     1.000000   \n",
            "25%       2.000000     4.000000     1.000000     1.000000     1.000000   \n",
            "50%       2.000000     5.000000     1.000000     1.000000     1.000000   \n",
            "75%       2.000000     5.000000     1.000000     1.000000     1.000000   \n",
            "max       8.000000     6.000000     2.000000     2.000000     2.000000   \n",
            "\n",
            "       P6159s8  P6163s8        P6161      P6161s1  \n",
            "count    180.0    700.0  2724.000000  2210.000000  \n",
            "mean       1.0      1.0     1.188693     2.895928  \n",
            "std        0.0      0.0     0.391336     2.097883  \n",
            "min        1.0      1.0     1.000000     1.000000  \n",
            "25%        1.0      1.0     1.000000     2.000000  \n",
            "50%        1.0      1.0     1.000000     2.000000  \n",
            "75%        1.0      1.0     1.000000     3.000000  \n",
            "max        1.0      1.0     2.000000    12.000000  \n"
          ]
        }
      ]
    },
    {
      "cell_type": "markdown",
      "source": [
        "# **2)**"
      ],
      "metadata": {
        "id": "2HCn1hnz7utB"
      }
    },
    {
      "cell_type": "markdown",
      "source": [
        "Tome un conjunto de datos de entrenamiento y de validación (del 20%), teniendo en cuenta\n",
        "que las entradas corresponden a las variables de las columnas \"P51\", \"P52\", \"P55\", \"P56\",\n",
        "\"P57\", \"P6159s8\" y \"P6163s8\", y, la salida es la variable \"P6161\"."
      ],
      "metadata": {
        "id": "Geoe-upD8GgJ"
      }
    },
    {
      "cell_type": "code",
      "source": [
        "from sklearn.model_selection import train_test_split\n",
        "\n",
        "variables_entrada = [\"P51\", \"P52\", \"P55\", \"P56\", \"P57\", \"P6159s8\", \"P6163s8\"]\n",
        "variable_salida = \"P6161\"\n",
        "\n",
        "X = df[variables_entrada]\n",
        "y = df[variable_salida]\n",
        "\n",
        "\n",
        "data_clean = pd.concat([X, y], axis=1).dropna()\n",
        "\n",
        "#(80% entrenamiento, 20% validación)\n",
        "X_train, X_val, y_train, y_val = train_test_split(data_clean[variables_entrada], data_clean[variable_salida], test_size=0.2, random_state=42)\n",
        "\n",
        "\n",
        "print(\"Tamaño del conjunto de entrenamiento:\", X_train.shape)\n",
        "print(\"Tamaño del conjunto de validación:\", X_val.shape)"
      ],
      "metadata": {
        "colab": {
          "base_uri": "https://localhost:8080/"
        },
        "id": "huaWxbpLoq11",
        "outputId": "d35bd2f6-777f-478d-ace7-52131a209afd"
      },
      "execution_count": 8,
      "outputs": [
        {
          "output_type": "stream",
          "name": "stdout",
          "text": [
            "Tamaño del conjunto de entrenamiento: (107, 7)\n",
            "Tamaño del conjunto de validación: (27, 7)\n"
          ]
        }
      ]
    },
    {
      "cell_type": "code",
      "source": [
        "from sklearn.linear_model import LinearRegression\n",
        "from sklearn.metrics import mean_squared_error\n",
        "\n",
        "\n",
        "modelo = LinearRegression()\n",
        "\n",
        "\n",
        "modelo.fit(X_train, y_train)\n",
        "\n",
        "\n",
        "y_pred = modelo.predict(X_val)\n",
        "\n",
        "\n",
        "mse = mean_squared_error(y_val, y_pred)\n",
        "print(\"Error cuadrático medio en conjunto de validación:\", mse)\n"
      ],
      "metadata": {
        "colab": {
          "base_uri": "https://localhost:8080/"
        },
        "id": "I4UX8VuHpIKI",
        "outputId": "58600296-8c2c-4739-e144-15246d7a23e5"
      },
      "execution_count": null,
      "outputs": [
        {
          "output_type": "stream",
          "name": "stdout",
          "text": [
            "Error cuadrático medio en conjunto de validación: 0.20512473150800142\n"
          ]
        }
      ]
    },
    {
      "cell_type": "code",
      "source": [
        "\n",
        "X_dummies = pd.get_dummies(X, drop_first=True)\n",
        "\n",
        "print(\"Dimensiones de X_dummies:\", X_dummies.shape)"
      ],
      "metadata": {
        "colab": {
          "base_uri": "https://localhost:8080/"
        },
        "id": "oWMg2TKjpZrc",
        "outputId": "0b677845-d4c4-4e86-c7f0-a939c6a9dc0d"
      },
      "execution_count": null,
      "outputs": [
        {
          "output_type": "stream",
          "name": "stdout",
          "text": [
            "Dimensiones de X_dummies: (4091, 7)\n"
          ]
        }
      ]
    },
    {
      "cell_type": "code",
      "source": [
        "from sklearn.model_selection import train_test_split\n",
        "\n",
        "#(80% entrenamiento, 20% validación)\n",
        "X_train, X_val, y_train, y_val = train_test_split(X_dummies, y, test_size=0.2, random_state=42)\n",
        "\n",
        "print(\"Tamaño del conjunto de entrenamiento:\", X_train.shape)\n",
        "print(\"Tamaño del conjunto de validación:\", X_val.shape)\n"
      ],
      "metadata": {
        "colab": {
          "base_uri": "https://localhost:8080/"
        },
        "id": "VcjPxToDpdsD",
        "outputId": "bb3f3672-95a4-44e2-89bc-a7ced097d33f"
      },
      "execution_count": null,
      "outputs": [
        {
          "output_type": "stream",
          "name": "stdout",
          "text": [
            "Tamaño del conjunto de entrenamiento: (3272, 7)\n",
            "Tamaño del conjunto de validación: (819, 7)\n"
          ]
        }
      ]
    },
    {
      "cell_type": "code",
      "source": [
        "from sklearn.impute import SimpleImputer\n",
        "\n",
        "imputer = SimpleImputer(strategy='mean')\n",
        "\n",
        "X_train_imputed = imputer.fit_transform(X_train)\n",
        "\n",
        "X_val_imputed = imputer.transform(X_val)"
      ],
      "metadata": {
        "id": "nX8E6GDBpzP6"
      },
      "execution_count": null,
      "outputs": []
    },
    {
      "cell_type": "markdown",
      "source": [
        "# **3)**"
      ],
      "metadata": {
        "id": "s4SyKdtt8OfD"
      }
    },
    {
      "cell_type": "markdown",
      "source": [
        "Implemente una red neuronal multicapa. Recuerde que todas las variables de entrada son\n",
        "cualitativas, por lo tanto, pueden transformarlas a variables tipo dummie. Además, se trata\n",
        "de una red de clasificación ya que la variable de la columna \"P6161\" es cualitativa: debe\n",
        "usar la función MLPClassifier."
      ],
      "metadata": {
        "id": "oLX9BGFd8Rsb"
      }
    },
    {
      "cell_type": "code",
      "source": [
        "from sklearn.neural_network import MLPClassifier\n",
        "from sklearn.metrics import accuracy_score\n",
        "\n",
        "\n",
        "modelo_mlp = MLPClassifier(hidden_layer_sizes=(50, 50), max_iter=500, random_state=42)\n",
        "modelo_mlp.fit(X_train_imputed, y_train)\n",
        "\n",
        "y_pred = modelo_mlp.predict(X_val_imputed)\n",
        "\n",
        "\n",
        "accuracy = accuracy_score(y_val, y_pred)\n",
        "print(\"Exactitud en conjunto de validación después de imputación:\", accuracy)"
      ],
      "metadata": {
        "colab": {
          "base_uri": "https://localhost:8080/"
        },
        "id": "7cPUCGL3p07W",
        "outputId": "92ef7dc2-e9e2-4627-96c1-232782e3aa89"
      },
      "execution_count": null,
      "outputs": [
        {
          "output_type": "stream",
          "name": "stdout",
          "text": [
            "Exactitud en conjunto de validación después de imputación: 0.8485958485958486\n"
          ]
        }
      ]
    },
    {
      "cell_type": "code",
      "source": [
        "import pandas as pd\n",
        "from sklearn.model_selection import train_test_split\n",
        "\n",
        "\n",
        "variables_entrada = [\"P51\", \"P52\", \"P55\", \"P56\", \"P57\", \"P6159s8\", \"P6163s8\"]\n",
        "variable_salida = \"P6161\"\n",
        "\n",
        "X = df[variables_entrada]\n",
        "y = df[variable_salida]\n",
        "\n",
        "\n",
        "X_dummies = pd.get_dummies(X, drop_first=True)\n",
        "\n",
        "\n",
        "X_train, X_val, y_train, y_val = train_test_split(X_dummies, y, test_size=0.2, random_state=42)\n",
        "\n",
        "\n",
        "print(\"Tamaño del conjunto de entrenamiento:\", X_train.shape)\n",
        "print(\"Tamaño del conjunto de validación:\", X_val.shape)\n"
      ],
      "metadata": {
        "colab": {
          "base_uri": "https://localhost:8080/"
        },
        "id": "ZQXsszJ_s1yS",
        "outputId": "32ba3152-0ca0-4a8c-f2f6-79bf87409719"
      },
      "execution_count": null,
      "outputs": [
        {
          "output_type": "stream",
          "name": "stdout",
          "text": [
            "Tamaño del conjunto de entrenamiento: (3272, 7)\n",
            "Tamaño del conjunto de validación: (819, 7)\n"
          ]
        }
      ]
    },
    {
      "cell_type": "code",
      "source": [
        "from sklearn.impute import SimpleImputer\n",
        "\n",
        "\n",
        "imputer = SimpleImputer(strategy='mean')\n",
        "\n",
        "\n",
        "X_train_imputed = imputer.fit_transform(X_train)\n",
        "\n",
        "\n",
        "X_val_imputed = imputer.transform(X_val)"
      ],
      "metadata": {
        "id": "Q6Tt42i4tbjt"
      },
      "execution_count": null,
      "outputs": []
    },
    {
      "cell_type": "markdown",
      "source": [
        "# **4)**"
      ],
      "metadata": {
        "id": "Sn2Ivjxx8xMK"
      }
    },
    {
      "cell_type": "markdown",
      "source": [
        "A. Random Forest Classifier"
      ],
      "metadata": {
        "id": "84wCBweutA4k"
      }
    },
    {
      "cell_type": "code",
      "source": [
        "from sklearn.ensemble import RandomForestClassifier\n",
        "from sklearn.metrics import accuracy_score\n",
        "\n",
        "\n",
        "modelo_rf = RandomForestClassifier(n_estimators=100, random_state=42)\n",
        "modelo_rf.fit(X_train_imputed, y_train)\n",
        "\n",
        "\n",
        "y_pred_rf = modelo_rf.predict(X_val_imputed)\n",
        "\n",
        "\n",
        "accuracy_rf = accuracy_score(y_val, y_pred_rf)\n",
        "print(\"Exactitud del Random Forest en conjunto de validación después de imputación:\", accuracy_rf)"
      ],
      "metadata": {
        "colab": {
          "base_uri": "https://localhost:8080/"
        },
        "id": "5bDeYcRktc0y",
        "outputId": "20a68cc9-36a3-4ad9-a42a-20aa22b54c39"
      },
      "execution_count": null,
      "outputs": [
        {
          "output_type": "stream",
          "name": "stdout",
          "text": [
            "Exactitud del Random Forest en conjunto de validación después de imputación: 0.8376068376068376\n"
          ]
        }
      ]
    },
    {
      "cell_type": "markdown",
      "source": [
        "B. Naive Bayes Classifier (GaussianNB)"
      ],
      "metadata": {
        "id": "weY-jktUtmjB"
      }
    },
    {
      "cell_type": "code",
      "source": [
        "from sklearn.naive_bayes import GaussianNB\n",
        "from sklearn.metrics import accuracy_score\n",
        "from sklearn.impute import SimpleImputer\n",
        "\n",
        "\n",
        "imputer = SimpleImputer(strategy='mean')\n",
        "\n",
        "\n",
        "X_train_imputed = imputer.fit_transform(X_train)\n",
        "\n",
        "\n",
        "X_val_imputed = imputer.transform(X_val)\n",
        "\n",
        "\n",
        "modelo_nb = GaussianNB()\n",
        "modelo_nb.fit(X_train_imputed, y_train)\n",
        "\n",
        "\n",
        "y_pred_nb = modelo_nb.predict(X_val_imputed)\n",
        "\n",
        "\n",
        "accuracy_nb = accuracy_score(y_val, y_pred_nb)\n",
        "print(\"Exactitud del Naive Bayes en conjunto de validación después de imputación:\", accuracy_nb)"
      ],
      "metadata": {
        "colab": {
          "base_uri": "https://localhost:8080/"
        },
        "id": "fey6D3_Kt1BT",
        "outputId": "d97a3147-4ebd-4e30-cbf2-7a9fe170a768"
      },
      "execution_count": null,
      "outputs": [
        {
          "output_type": "stream",
          "name": "stdout",
          "text": [
            "Exactitud del Naive Bayes en conjunto de validación después de imputación: 0.7997557997557998\n"
          ]
        }
      ]
    },
    {
      "cell_type": "markdown",
      "source": [
        "Support Vector Machine (SVM)"
      ],
      "metadata": {
        "id": "cWq8hLANt65J"
      }
    },
    {
      "cell_type": "code",
      "source": [
        "from sklearn.svm import SVC\n",
        "from sklearn.metrics import accuracy_score\n",
        "from sklearn.impute import SimpleImputer\n",
        "\n",
        "\n",
        "imputer = SimpleImputer(strategy='mean')\n",
        "\n",
        "\n",
        "X_train_imputed = imputer.fit_transform(X_train)\n",
        "\n",
        "\n",
        "X_val_imputed = imputer.transform(X_val)\n",
        "\n",
        "\n",
        "modelo_svm = SVC(decision_function_shape='ovr', kernel='rbf', degree=3)\n",
        "modelo_svm.fit(X_train_imputed, y_train)\n",
        "\n",
        "\n",
        "y_pred_svm = modelo_svm.predict(X_val_imputed)\n",
        "\n",
        "\n",
        "accuracy_svm = accuracy_score(y_val, y_pred_svm)\n",
        "print(\"Exactitud del SVM en conjunto de validación después de imputación:\", accuracy_svm)"
      ],
      "metadata": {
        "id": "qZlpKqkRt-n6",
        "outputId": "e3825103-b85f-4341-c486-fea86e496766",
        "colab": {
          "base_uri": "https://localhost:8080/"
        }
      },
      "execution_count": null,
      "outputs": [
        {
          "output_type": "stream",
          "name": "stdout",
          "text": [
            "Exactitud del SVM en conjunto de validación después de imputación: 0.8437118437118437\n"
          ]
        }
      ]
    },
    {
      "cell_type": "markdown",
      "source": [
        "# **5)**"
      ],
      "metadata": {
        "id": "970_M8ML9v-w"
      }
    },
    {
      "cell_type": "markdown",
      "source": [
        " Encuentre, de acuerdo con las predicciones del mejor modelo de acuerdo con el ítem\n",
        "anterior, los valores de las variables de las columnas \"P51\", \"P52\", \"P55\", \"P56\", \"P57\",\n",
        "\"P6159s8\" y \"P6163s8\" qué menores de edad no ha recibido citas de control de\n",
        "crecimiento y desarrollo."
      ],
      "metadata": {
        "id": "T_1-Y128-Sdy"
      }
    },
    {
      "cell_type": "markdown",
      "source": [
        "**El mejor modelo de acuerdo a las predicciones es SVM maquina de soporte vectorial con 0.8437118437118437 de exactitud.**"
      ],
      "metadata": {
        "id": "C7Gk21j6-ZsZ"
      }
    },
    {
      "cell_type": "markdown",
      "source": [
        "# Bibliografía y Referencias\n",
        "\n",
        "1. Encuesta Longitudinal de Protección Social - ELPS. (2012). [Link a la encuesta](https://www.dane.gov.co/index.php/estadisticas-por-tema/pobreza-y-condiciones-de-vida)\n",
        "2. Base de Datos de Menores. [Link a la base de datos](https://microdatos.dane.gov.co/index.php/catalog/194/study-description)"
      ],
      "metadata": {
        "id": "MHZwakOVAfJx"
      }
    }
  ]
}